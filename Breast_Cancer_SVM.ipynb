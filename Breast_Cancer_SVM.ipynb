{
 "cells": [
  {
   "cell_type": "markdown",
   "metadata": {},
   "source": [
    "# SVM for Breast Cancer Detection that will not only be created for utility, but for comparison to a QSVM of each ones efficiency."
   ]
  },
  {
   "cell_type": "markdown",
   "metadata": {},
   "source": [
    "## Niko Tsiolas, July 2024"
   ]
  },
  {
   "cell_type": "code",
   "execution_count": 1,
   "metadata": {},
   "outputs": [],
   "source": [
    "#Import libraries and read the CSV file\n",
    "\n",
    "import pandas as pd \n",
    "import numpy as np\n",
    "from sklearn.model_selection import train_test_split\n",
    "from sklearn.ensemble import RandomForestClassifier\n",
    "from sklearn.svm import SVC\n",
    "from sklearn.preprocessing import StandardScaler\n",
    "from sklearn.metrics import accuracy_score, classification_report, confusion_matrix, roc_auc_score,f1_score, make_scorer\n",
    "from sklearn.model_selection import GridSearchCV\n",
    "from sklearn.feature_selection import RFECV\n",
    "\n",
    "\n",
    "data = pd.read_csv('Breast_cancer_data.csv')\n",
    "\n",
    "print(data.head())\n",
    "print(data.info())\n"
   ]
  },
  {
   "cell_type": "code",
   "execution_count": 63,
   "metadata": {},
   "outputs": [
    {
     "name": "stdout",
     "output_type": "stream",
     "text": [
      "Columns: ['mean_radius', 'mean_texture', 'mean_perimeter', 'mean_area', 'mean_smoothness', 'diagnosis']\n",
      "Number of Rows: 569\n",
      "Number of Columns: 6\n",
      "\n",
      "Missing Values:\n",
      "mean_radius        0\n",
      "mean_texture       0\n",
      "mean_perimeter     0\n",
      "mean_area          0\n",
      "mean_smoothness    0\n",
      "diagnosis          0\n",
      "dtype: int64\n",
      "\n",
      "Data Types:\n",
      "mean_radius        float64\n",
      "mean_texture       float64\n",
      "mean_perimeter     float64\n",
      "mean_area          float64\n",
      "mean_smoothness    float64\n",
      "diagnosis            int64\n",
      "dtype: object\n"
     ]
    }
   ],
   "source": [
    "#Checking for missing values and data types\n",
    "\n",
    "print(\"Columns:\", data.columns.tolist())\n",
    "\n",
    "print(\"Number of Rows:\" ,data.shape[0])\n",
    "print(\"Number of Columns:\" ,data.shape[1])\n",
    "\n",
    "print(\"\\nMissing Values:\")\n",
    "print(data.isnull().sum())\n",
    "\n",
    "print(\"\\nData Types:\")\n",
    "print(data.dtypes)\n"
   ]
  },
  {
   "cell_type": "code",
   "execution_count": 64,
   "metadata": {},
   "outputs": [
    {
     "name": "stdout",
     "output_type": "stream",
     "text": [
      "Shape of X: (569, 5)\n",
      "Shape of y: (569,)\n",
      "Shape of X_train: (455, 5)\n",
      "Shape of X_test: (114, 5)\n",
      "Shape of y_train: (455,)\n",
      "Shape of y_test: (114,)\n"
     ]
    }
   ],
   "source": [
    "#seperate the features(X) and the target(y)\n",
    "\n",
    "X = data.drop('diagnosis', axis=1)\n",
    "y = data['diagnosis']\n",
    "\n",
    "\n",
    "print(\"Shape of X:\", X.shape)\n",
    "print(\"Shape of y:\", y.shape)\n",
    "\n",
    "#Train and Test Split\n",
    "X_train, X_test, y_train, y_test = train_test_split(X,y, test_size=0.2, random_state=30)\n",
    "\n",
    "#Seeing the distribution of the the split\n",
    "print(\"Shape of X_train:\", X_train.shape)\n",
    "print(\"Shape of X_test:\", X_test.shape)\n",
    "print(\"Shape of y_train:\", y_train.shape)\n",
    "print(\"Shape of y_test:\", y_test.shape)\n"
   ]
  },
  {
   "cell_type": "code",
   "execution_count": 65,
   "metadata": {},
   "outputs": [
    {
     "name": "stdout",
     "output_type": "stream",
     "text": [
      "Best Parameters: {'C': 100, 'gamma': 1, 'kernel': 'poly'}\n",
      "Best cross validation Score: 0.9472527472527472\n"
     ]
    }
   ],
   "source": [
    "#Initialize Scaler and Scale the features\n",
    "\n",
    "scaler = StandardScaler()\n",
    "\n",
    "#scaling the data for the model of test and train\n",
    "X_train_scaled = scaler.fit_transform(X_train)\n",
    "X_test_scaled = scaler.transform(X_test)\n",
    "\n",
    "#Train the SVM Model \n",
    "svm_model = SVC(kernel='rbf', random_state=30)\n",
    "svm_model.fit(X_train_scaled, y_train)\n",
    "\n",
    "#predictions\n",
    "y_pred = svm_model.predict(X_test_scaled)\n",
    "\n",
    "#rules for the paramater grid.\n",
    "param_grid = {\n",
    "    'C': [0.1, 1, 10, 100, 1000],\n",
    "    'gamma': [0.001, 0.01, 0.1, 1],\n",
    "    'kernel': ['rbf', 'poly', 'sigmoid']\n",
    "}\n",
    "\n",
    "#Creates a tool for best combo \n",
    "grid_search = GridSearchCV(SVC(), param_grid, cv=5, scoring='accuracy', n_jobs=-1)\n",
    "\n",
    "grid_search.fit(X_train_scaled, y_train)\n",
    "\n",
    "print(f\"Best Parameters: {grid_search.best_params_}\")\n",
    "print(f\"Best cross validation Score: {grid_search.best_score_}\")\n",
    "\n",
    "best_svm = grid_search.best_estimator_\n",
    "y_pred_best = best_svm.predict(X_test_scaled)\n",
    "\n"
   ]
  },
  {
   "cell_type": "code",
   "execution_count": 66,
   "metadata": {},
   "outputs": [
    {
     "name": "stdout",
     "output_type": "stream",
     "text": [
      "Number of selected features: 4\n",
      "selected features: Index(['mean_texture', 'mean_perimeter', 'mean_area', 'mean_smoothness'], dtype='object')\n"
     ]
    }
   ],
   "source": [
    "\n",
    "#Creates a Recursive Feature Elimination Cross Validation object, uses a linear SVM as the estimator\n",
    "rfe_selector = RFECV(estimator=SVC(kernel=\"linear\"), step=1, cv=5)\n",
    "\n",
    "#applies the RFECV process to the scaled training data\n",
    "rfe_selector = rfe_selector.fit(X_train_scaled, y_train)\n",
    "\n",
    "#Identifies which features were selected by the RFECV process, .support being a boolean array indicating selected features. \n",
    "selected_features = X_train.columns[rfe_selector.support_]\n",
    "print(\"Number of selected features:\", len(selected_features))\n",
    "print(\"selected features:\", selected_features)\n",
    "\n",
    "#Creates new versions of the training and test sets. ONLY include ones that were selected by the RFECV.\n",
    "X_train_scaled_selected = X_train_scaled[:, rfe_selector.support_]\n",
    "X_test_scaled_selected = X_test_scaled[:, rfe_selector.support_]\n",
    "\n",
    "#Creates a new SVM model using the best params from the earlier gridsearchCV. \n",
    "svm_selected = SVC(**grid_search.best_params_)\n",
    "\n",
    "\n"
   ]
  },
  {
   "cell_type": "code",
   "execution_count": 68,
   "metadata": {},
   "outputs": [],
   "source": [
    "\n",
    "#trains the new svm model using only the selected features \n",
    "svm_selected = SVC(**grid_search.best_params_)\n",
    "svm_selected.fit(X_train_scaled_selected, y_train)\n",
    "\n",
    "y_pred_selected = svm_selected.predict(X_test_scaled_selected)"
   ]
  },
  {
   "cell_type": "code",
   "execution_count": 70,
   "metadata": {},
   "outputs": [
    {
     "name": "stdout",
     "output_type": "stream",
     "text": [
      "\n",
      " Best Original SVM Model results:\n",
      "Accuracy: 0.8860\n",
      "\n",
      "Classification Report:\n",
      "              precision    recall  f1-score   support\n",
      "\n",
      "           0       0.90      0.80      0.84        44\n",
      "           1       0.88      0.94      0.91        70\n",
      "\n",
      "    accuracy                           0.89       114\n",
      "   macro avg       0.89      0.87      0.88       114\n",
      "weighted avg       0.89      0.89      0.88       114\n",
      "\n",
      "ROC AUC: 0.8691558441558441\n",
      "SVM with Selected Features Results:\n",
      "Accuracy: 0.9123\n",
      "ROC AUC: 0.8906\n",
      "\n",
      "Classification Report:\n",
      "              precision    recall  f1-score   support\n",
      "\n",
      "           0       0.97      0.80      0.88        44\n",
      "           1       0.88      0.99      0.93        70\n",
      "\n",
      "    accuracy                           0.91       114\n",
      "   macro avg       0.93      0.89      0.90       114\n",
      "weighted avg       0.92      0.91      0.91       114\n",
      "\n",
      "\n",
      "Hyperparameter-tuned SVM (all features) Results:\n",
      "Accuracy: 0.9123\n",
      "ROC AUC: 0.8948\n",
      "\n",
      "Classification Report:\n",
      "              precision    recall  f1-score   support\n",
      "\n",
      "           0       0.95      0.82      0.88        44\n",
      "           1       0.89      0.97      0.93        70\n",
      "\n",
      "    accuracy                           0.91       114\n",
      "   macro avg       0.92      0.89      0.90       114\n",
      "weighted avg       0.92      0.91      0.91       114\n",
      "\n"
     ]
    }
   ],
   "source": [
    "\n",
    "\n",
    "#Evaluating the model\n",
    "print(\"\\n Best Original SVM Model results:\")\n",
    "accuracy = accuracy_score(y_test, y_pred)\n",
    "print(f\"Accuracy: {accuracy:.4f}\")\n",
    "print(\"\\nClassification Report:\")\n",
    "print(classification_report(y_test, y_pred))\n",
    "print(f\"ROC AUC:\" ,roc_auc_score(y_test, y_pred))\n",
    "\n",
    "print(\"SVM with Selected Features Results:\")\n",
    "print(f\"Accuracy: {accuracy_score(y_test, y_pred_selected):.4f}\")\n",
    "print(f\"ROC AUC: {roc_auc_score(y_test, y_pred_selected):.4f}\")\n",
    "print(\"\\nClassification Report:\")\n",
    "print(classification_report(y_test, y_pred_selected))\n",
    "\n",
    "print(\"\\nHyperparameter-tuned SVM (all features) Results:\")\n",
    "print(f\"Accuracy: {accuracy_score(y_test, y_pred_best):.4f}\")\n",
    "print(f\"ROC AUC: {roc_auc_score(y_test, y_pred_best):.4f}\")\n",
    "print(\"\\nClassification Report:\")\n",
    "print(classification_report(y_test, y_pred_best))\n"
   ]
  }
 ],
 "metadata": {
  "kernelspec": {
   "display_name": "MachineLearning",
   "language": "python",
   "name": "python3"
  },
  "language_info": {
   "codemirror_mode": {
    "name": "ipython",
    "version": 3
   },
   "file_extension": ".py",
   "mimetype": "text/x-python",
   "name": "python",
   "nbconvert_exporter": "python",
   "pygments_lexer": "ipython3",
   "version": "3.12.4"
  }
 },
 "nbformat": 4,
 "nbformat_minor": 2
}
