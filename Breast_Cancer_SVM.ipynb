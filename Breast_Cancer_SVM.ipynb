{
 "cells": [
  {
   "cell_type": "markdown",
   "metadata": {},
   "source": [
    "# SVM for Breast Cancer Detection that will not only be created for utility, but for comparison to a QSVM of each ones efficiency."
   ]
  },
  {
   "cell_type": "markdown",
   "metadata": {},
   "source": [
    "## Niko Tsiolas, July 2024"
   ]
  },
  {
   "cell_type": "code",
   "execution_count": 29,
   "metadata": {},
   "outputs": [
    {
     "name": "stdout",
     "output_type": "stream",
     "text": [
      "   mean_radius  mean_texture  mean_perimeter  mean_area  mean_smoothness  \\\n",
      "0        17.99         10.38          122.80     1001.0          0.11840   \n",
      "1        20.57         17.77          132.90     1326.0          0.08474   \n",
      "2        19.69         21.25          130.00     1203.0          0.10960   \n",
      "3        11.42         20.38           77.58      386.1          0.14250   \n",
      "4        20.29         14.34          135.10     1297.0          0.10030   \n",
      "\n",
      "   diagnosis  \n",
      "0          0  \n",
      "1          0  \n",
      "2          0  \n",
      "3          0  \n",
      "4          0  \n",
      "<class 'pandas.core.frame.DataFrame'>\n",
      "RangeIndex: 569 entries, 0 to 568\n",
      "Data columns (total 6 columns):\n",
      " #   Column           Non-Null Count  Dtype  \n",
      "---  ------           --------------  -----  \n",
      " 0   mean_radius      569 non-null    float64\n",
      " 1   mean_texture     569 non-null    float64\n",
      " 2   mean_perimeter   569 non-null    float64\n",
      " 3   mean_area        569 non-null    float64\n",
      " 4   mean_smoothness  569 non-null    float64\n",
      " 5   diagnosis        569 non-null    int64  \n",
      "dtypes: float64(5), int64(1)\n",
      "memory usage: 26.8 KB\n",
      "None\n"
     ]
    }
   ],
   "source": [
    "#Import libraries and read the CSV file\n",
    "\n",
    "import pandas as pd \n",
    "import numpy as np\n",
    "from sklearn.model_selection import train_test_split\n",
    "from sklearn.ensemble import RandomForestClassifier\n",
    "from sklearn.svm import SVC\n",
    "from sklearn.preprocessing import StandardScaler\n",
    "from sklearn.metrics import accuracy_score, classification_report, confusion_matrix, roc_auc_score\n",
    "from sklearn.model_selection import GridSearchCV\n",
    "from sklearn.feature_selection import RFE\n",
    "\n",
    "data = pd.read_csv('Breast_cancer_data.csv')\n",
    "\n",
    "print(data.head())\n",
    "print(data.info())\n"
   ]
  },
  {
   "cell_type": "code",
   "execution_count": 30,
   "metadata": {},
   "outputs": [
    {
     "name": "stdout",
     "output_type": "stream",
     "text": [
      "Columns: ['mean_radius', 'mean_texture', 'mean_perimeter', 'mean_area', 'mean_smoothness', 'diagnosis']\n",
      "Number of Rows: 569\n",
      "Number of Columns: 6\n",
      "\n",
      "Missing Values:\n",
      "mean_radius        0\n",
      "mean_texture       0\n",
      "mean_perimeter     0\n",
      "mean_area          0\n",
      "mean_smoothness    0\n",
      "diagnosis          0\n",
      "dtype: int64\n",
      "\n",
      "Data Types:\n",
      "mean_radius        float64\n",
      "mean_texture       float64\n",
      "mean_perimeter     float64\n",
      "mean_area          float64\n",
      "mean_smoothness    float64\n",
      "diagnosis            int64\n",
      "dtype: object\n"
     ]
    }
   ],
   "source": [
    "#Checking for missing values and data types\n",
    "\n",
    "print(\"Columns:\", data.columns.tolist())\n",
    "\n",
    "print(\"Number of Rows:\" ,data.shape[0])\n",
    "print(\"Number of Columns:\" ,data.shape[1])\n",
    "\n",
    "print(\"\\nMissing Values:\")\n",
    "print(data.isnull().sum())\n",
    "\n",
    "print(\"\\nData Types:\")\n",
    "print(data.dtypes)\n"
   ]
  },
  {
   "cell_type": "code",
   "execution_count": 31,
   "metadata": {},
   "outputs": [
    {
     "name": "stdout",
     "output_type": "stream",
     "text": [
      "Shape of X: (569, 5)\n",
      "Shape of y: (569,)\n",
      "Shape of X_train: (455, 5)\n",
      "Shape of X_test: (114, 5)\n",
      "Shape of y_train: (455,)\n",
      "Shape of y_test: (114,)\n"
     ]
    }
   ],
   "source": [
    "#Seperate the featrues(X) and the target(y)\n",
    "\n",
    "X = data.drop('diagnosis', axis=1)\n",
    "y = data['diagnosis']\n",
    "\n",
    "\n",
    "print(\"Shape of X:\", X.shape)\n",
    "print(\"Shape of y:\", y.shape)\n",
    "\n",
    "#Train and Test Split\n",
    "X_train, X_test, y_train, y_test = train_test_split(X,y, test_size=0.2, random_state=30)\n",
    "\n",
    "#Seeing the distribution of the the split\n",
    "print(\"Shape of X_train:\", X_train.shape)\n",
    "print(\"Shape of X_test:\", X_test.shape)\n",
    "print(\"Shape of y_train:\", y_train.shape)\n",
    "print(\"Shape of y_test:\", y_test.shape)\n"
   ]
  },
  {
   "cell_type": "code",
   "execution_count": 35,
   "metadata": {},
   "outputs": [
    {
     "name": "stdout",
     "output_type": "stream",
     "text": [
      "Best Parameters: {'C': 100, 'gamma': 1, 'kernel': 'poly'}\n",
      "Best cross validation Score: 0.9472527472527472\n"
     ]
    }
   ],
   "source": [
    "#Initialize Scaler and Scale the features\n",
    "\n",
    "scaler = StandardScaler()\n",
    "\n",
    "X_train_scaled = scaler.fit_transform(X_train)\n",
    "X_test_scaled = scaler.transform(X_test)\n",
    "\n",
    "#Train the SVM Model \n",
    "svm_model = SVC(kernel='rbf', random_state=30)\n",
    "svm_model.fit(X_train_scaled, y_train)\n",
    "\n",
    "#predictions\n",
    "y_pred = svm_model.predict(X_test_scaled)\n",
    "\n",
    "#rules for the paramater grid.\n",
    "param_grid = {\n",
    "    'C': [0.1, 1, 10, 100],\n",
    "    'gamma': [1, 0.1, 0.01, 0.001],\n",
    "    'kernel': ['rbf', 'poly', 'sigmoid']\n",
    "}\n",
    "\n",
    "#Creates a tool for best combo \n",
    "grid_search = GridSearchCV(SVC(), param_grid, cv=5, scoring='accuracy', n_jobs=-1)\n",
    "\n",
    "grid_search.fit(X_train_scaled, y_train)\n",
    "\n",
    "print(f\"Best Parameters: {grid_search.best_params_}\")\n",
    "print(f\"Best cross validation Score: {grid_search.best_score_}\")\n",
    "\n",
    "best_svm = grid_search.best_estimator_\n",
    "y_pred_best = best_svm.predict(X_test_scaled)\n",
    "\n"
   ]
  },
  {
   "cell_type": "code",
   "execution_count": 36,
   "metadata": {},
   "outputs": [
    {
     "name": "stdout",
     "output_type": "stream",
     "text": [
      "\n",
      " Best SVM Model results:\n",
      "Accuracy: 0.8860\n",
      "\n",
      "Classification Report:\n",
      "              precision    recall  f1-score   support\n",
      "\n",
      "           0       0.90      0.80      0.84        44\n",
      "           1       0.88      0.94      0.91        70\n",
      "\n",
      "    accuracy                           0.89       114\n",
      "   macro avg       0.89      0.87      0.88       114\n",
      "weighted avg       0.89      0.89      0.88       114\n",
      "\n",
      "Roc_Auc: 0.8691558441558441\n"
     ]
    }
   ],
   "source": [
    "print(\"\\n Best SVM Model results:\")\n",
    "\n",
    "#Evaluating the model\n",
    "accuracy = accuracy_score(y_test, y_pred)\n",
    "print(f\"Accuracy: {accuracy:.4f}\")\n",
    "\n",
    "\n",
    "print(\"\\nClassification Report:\")\n",
    "print(classification_report(y_test, y_pred))\n",
    "\n",
    "print(f\"Roc_Auc:\" ,roc_auc_score(y_test, y_pred))\n"
   ]
  },
  {
   "cell_type": "code",
   "execution_count": null,
   "metadata": {},
   "outputs": [],
   "source": []
  },
  {
   "cell_type": "code",
   "execution_count": null,
   "metadata": {},
   "outputs": [],
   "source": []
  }
 ],
 "metadata": {
  "kernelspec": {
   "display_name": "MachineLearning",
   "language": "python",
   "name": "python3"
  },
  "language_info": {
   "codemirror_mode": {
    "name": "ipython",
    "version": 3
   },
   "file_extension": ".py",
   "mimetype": "text/x-python",
   "name": "python",
   "nbconvert_exporter": "python",
   "pygments_lexer": "ipython3",
   "version": "3.12.4"
  }
 },
 "nbformat": 4,
 "nbformat_minor": 2
}
