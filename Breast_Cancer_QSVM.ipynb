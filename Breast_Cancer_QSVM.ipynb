{
 "cells": [
  {
   "cell_type": "markdown",
   "metadata": {},
   "source": [
    "# QSVM for Breast Cancer Detection that will not only be created for utility, but for comparison to a SVM of each ones efficiency."
   ]
  },
  {
   "cell_type": "markdown",
   "metadata": {},
   "source": [
    "## Niko Tsiolas, July 2024"
   ]
  },
  {
   "cell_type": "code",
   "execution_count": 2,
   "metadata": {},
   "outputs": [],
   "source": [
    "# Import necessary libraries\n",
    "import numpy as np\n",
    "import pandas as pd\n",
    "from sklearn.model_selection import train_test_split\n",
    "from sklearn.preprocessing import StandardScaler\n",
    "from sklearn.metrics import accuracy_score, classification_report\n",
    "from sklearn.feature_selection import SelectKBest, f_classif\n",
    "from qiskit_machine_learning.kernels import FidelityQuantumKernel\n",
    "from qiskit_machine_learning.algorithms import QSVC\n",
    "from qiskit.circuit.library import ZZFeatureMap\n",
    "from qiskit_ibm_runtime import Sampler\n",
    "from qiskit_ibm_runtime.fake_provider import FakeManilaV2\n",
    "from qiskit.transpiler.preset_passmanagers import generate_preset_pass_manager\n",
    "from qiskit_ibm_runtime.sampler import SamplerV2\n",
    "\n",
    "\n",
    "# Load the data \n",
    "data = pd.read_csv('Breast_Cancer_Data.csv')\n",
    "\n",
    "# Separating the features and target \n",
    "X = data.drop('diagnosis', axis=1)\n",
    "y = data['diagnosis']"
   ]
  },
  {
   "cell_type": "code",
   "execution_count": null,
   "metadata": {},
   "outputs": [],
   "source": [
    "# Split the data\n",
    "X_train, X_test, y_train, y_test = train_test_split(X, y, test_size=0.2, random_state=42)\n",
    "\n",
    "# Scale the features\n",
    "scaler = StandardScaler()\n",
    "X_train_scaled = scaler.fit_transform(X_train)\n",
    "X_test_scaled = scaler.transform(X_test)\n",
    "\n",
    "# Set up the quantum feature map\n",
    "feature_dim = X_train_scaled.shape[1]  \n",
    "feature_map = ZZFeatureMap(feature_dimension=feature_dim, reps=2)\n",
    "\n",
    "# Set up the IBM Quantum service\n",
    "service = QiskitRuntimeService(channel=\"ibm_quantum\", token=\"a13aef24d4de13cbf76251ab4de79999ef204324397a0dcefd3c1cc8bdb0ae66643a03e3de6f00139f1e247ed78be6ef79e384119795d4b83fabae4616e29705\")"
   ]
  },
  {
   "cell_type": "code",
   "execution_count": 1,
   "metadata": {},
   "outputs": [
    {
     "ename": "NameError",
     "evalue": "name 'FakeManilaV2' is not defined",
     "output_type": "error",
     "traceback": [
      "\u001b[0;31m---------------------------------------------------------------------------\u001b[0m",
      "\u001b[0;31mNameError\u001b[0m                                 Traceback (most recent call last)",
      "Cell \u001b[0;32mIn[1], line 2\u001b[0m\n\u001b[1;32m      1\u001b[0m \u001b[38;5;66;03m# Use FakeManilaV2 as our backend\u001b[39;00m\n\u001b[0;32m----> 2\u001b[0m fake_manila \u001b[38;5;241m=\u001b[39m \u001b[43mFakeManilaV2\u001b[49m()\n\u001b[1;32m      4\u001b[0m \u001b[38;5;66;03m# Generate a preset pass manager for the fake backend\u001b[39;00m\n\u001b[1;32m      5\u001b[0m pm \u001b[38;5;241m=\u001b[39m generate_preset_pass_manager(backend\u001b[38;5;241m=\u001b[39mfake_manila, optimization_level\u001b[38;5;241m=\u001b[39m\u001b[38;5;241m1\u001b[39m)\n",
      "\u001b[0;31mNameError\u001b[0m: name 'FakeManilaV2' is not defined"
     ]
    }
   ],
   "source": [
    "# Use FakeManilaV2 as our backend\n",
    "fake_manila = FakeManilaV2()\n",
    "\n",
    "# Generate a preset pass manager for the fake backend\n",
    "pm = generate_preset_pass_manager(backend=fake_manila, optimization_level=1)\n",
    "\n",
    "# Set up options for the simulator\n",
    "options = {\"simulator\": {\"seed_simulator\": 42}}\n",
    "\n",
    "# Create a Sampler using the fake backend\n",
    "sampler = SamplerV2(backend=fake_manila, options=options)\n",
    "\n",
    "# Set up the quantum kernel\n",
    "quantum_kernel = FidelityQuantumKernel(feature_map=feature_map)\n",
    "\n",
    "# Create and train the QSVM\n",
    "qsvm = QSVC(quantum_kernel=quantum_kernel)\n",
    "\n",
    "print(\"Training QSVM...\")\n",
    "qsvm.fit(X_train_scaled, y_train)\n",
    "\n",
    "print(\"Making predictions...\")\n",
    "y_pred = qsvm.predict(X_test_scaled)\n",
    "\n",
    "# Calculate and print accuracy\n",
    "accuracy = accuracy_score(y_test, y_pred)\n",
    "print(f\"Accuracy: {accuracy}\")\n",
    "\n",
    "print(\"\\nClassification Report:\")\n",
    "print(classification_report(y_test, y_pred))\n",
    "\n",
    "print(\"Script execution completed.\")"
   ]
  },
  {
   "cell_type": "code",
   "execution_count": 34,
   "metadata": {},
   "outputs": [
    {
     "ename": "NameError",
     "evalue": "name 'y_pred' is not defined",
     "output_type": "error",
     "traceback": [
      "\u001b[0;31m---------------------------------------------------------------------------\u001b[0m",
      "\u001b[0;31mNameError\u001b[0m                                 Traceback (most recent call last)",
      "Cell \u001b[0;32mIn[34], line 1\u001b[0m\n\u001b[0;32m----> 1\u001b[0m accuracy \u001b[38;5;241m=\u001b[39m accuracy_score(y_test, \u001b[43my_pred\u001b[49m)\n\u001b[1;32m      2\u001b[0m \u001b[38;5;28mprint\u001b[39m(\u001b[38;5;124mf\u001b[39m\u001b[38;5;124m\"\u001b[39m\u001b[38;5;124mAccuracy: \u001b[39m\u001b[38;5;132;01m{\u001b[39;00maccuracy\u001b[38;5;132;01m}\u001b[39;00m\u001b[38;5;124m\"\u001b[39m)\n\u001b[1;32m      4\u001b[0m \u001b[38;5;28mprint\u001b[39m(\u001b[38;5;124m\"\u001b[39m\u001b[38;5;130;01m\\n\u001b[39;00m\u001b[38;5;124mClassication Report:\u001b[39m\u001b[38;5;124m\"\u001b[39m)\n",
      "\u001b[0;31mNameError\u001b[0m: name 'y_pred' is not defined"
     ]
    }
   ],
   "source": [
    "accuracy = accuracy_score(y_test, y_pred)\n",
    "print(f\"Accuracy: {accuracy}\")\n",
    "\n",
    "print(\"\\nClassication Report:\")\n",
    "print(classification_report(y_test, y_pred))"
   ]
  },
  {
   "cell_type": "code",
   "execution_count": null,
   "metadata": {},
   "outputs": [],
   "source": []
  }
 ],
 "metadata": {
  "kernelspec": {
   "display_name": "QiskitAlgorithms",
   "language": "python",
   "name": "python3"
  },
  "language_info": {
   "codemirror_mode": {
    "name": "ipython",
    "version": 3
   },
   "file_extension": ".py",
   "mimetype": "text/x-python",
   "name": "python",
   "nbconvert_exporter": "python",
   "pygments_lexer": "ipython3",
   "version": "3.12.4"
  }
 },
 "nbformat": 4,
 "nbformat_minor": 2
}
